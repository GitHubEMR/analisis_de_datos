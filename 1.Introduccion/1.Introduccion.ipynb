{
 "cells": [
  {
   "cell_type": "code",
   "execution_count": 6,
   "metadata": {},
   "outputs": [
    {
     "name": "stdout",
     "output_type": "stream",
     "text": [
      "El numero es 6\n",
      "El numero es menor que 6\n"
     ]
    }
   ],
   "source": [
    "# Indentacion\n",
    "# {}, ;, () delimitan bloques de codigo - Java Javascripts\n",
    "vl = 5\n",
    "if vl == 6:\n",
    "    print('El numero es 6')\n",
    "    print('El numero es positivo')\n",
    "else:\n",
    "    print('El numero es 6')\n",
    "    print('El numero es menor que 6')"
   ]
  }
 ],
 "metadata": {
  "kernelspec": {
   "display_name": "Python 3",
   "language": "python",
   "name": "python3"
  },
  "language_info": {
   "codemirror_mode": {
    "name": "ipython",
    "version": 3
   },
   "file_extension": ".py",
   "mimetype": "text/x-python",
   "name": "python",
   "nbconvert_exporter": "python",
   "pygments_lexer": "ipython3",
   "version": "3.12.1"
  }
 },
 "nbformat": 4,
 "nbformat_minor": 2
}
