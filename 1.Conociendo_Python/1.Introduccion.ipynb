{
 "cells": [
  {
   "cell_type": "code",
   "execution_count": 6,
   "metadata": {},
   "outputs": [
    {
     "name": "stdout",
     "output_type": "stream",
     "text": [
      "El numero es 6\n",
      "El numero es menor que 6\n"
     ]
    }
   ],
   "source": [
    "# Indentacion\n",
    "# {}, ;, () delimitan bloques de codigo - Java Javascripts\n",
    "vl = 5\n",
    "if vl == 6:\n",
    "    print('El numero es 6')\n",
    "    print('El numero es positivo')\n",
    "else:\n",
    "    print('El numero es 6')\n",
    "    print('El numero es menor que 6')"
   ]
  },
  {
   "cell_type": "code",
   "execution_count": 1,
   "metadata": {},
   "outputs": [
    {
     "name": "stdout",
     "output_type": "stream",
     "text": [
      "El elemento está en la lista\n"
     ]
    }
   ],
   "source": [
    "#1. funcion para buscar un elemento en una lista\n",
    "\n",
    "mi_lista = [1, 2, 3, 4, 5]\n",
    "elemento = 3\n",
    "\n",
    "if elemento in mi_lista:\n",
    "    print(\"El elemento está en la lista\")\n",
    "else:\n",
    "    print(\"El elemento no está en la lista\")\n"
   ]
  },
  {
   "cell_type": "code",
   "execution_count": 10,
   "metadata": {},
   "outputs": [
    {
     "name": "stdout",
     "output_type": "stream",
     "text": [
      "9\n"
     ]
    }
   ],
   "source": [
    "#2. funcion que sume los numeros positivos de una lista.\n",
    "mi_lista = [1, -2, 3, -4, 5, -6]\n",
    "def sumar_positivos(lista):\n",
    "    return sum(filter(lambda x: x > 0, lista))\n",
    "resultado = sumar_positivos(mi_lista)\n",
    "print(resultado)"
   ]
  },
  {
   "cell_type": "code",
   "execution_count": 11,
   "metadata": {},
   "outputs": [
    {
     "name": "stdout",
     "output_type": "stream",
     "text": [
      "La clave 'edad' existe en el diccionario\n"
     ]
    }
   ],
   "source": [
    "#3. funcions que busque una clave de un diccionario\n",
    "mi_diccionario = {'nombre': 'Juan', 'edad': 30, 'ciudad': 'Madrid'}\n",
    "clave = 'edad'\n",
    "if clave in mi_diccionario:\n",
    "    print(f\"La clave '{clave}' existe en el diccionario\")\n",
    "else:\n",
    "    print(f\"La clave '{clave}' no existe en el diccionario\")\n"
   ]
  },
  {
   "cell_type": "code",
   "execution_count": 13,
   "metadata": {},
   "outputs": [
    {
     "name": "stdout",
     "output_type": "stream",
     "text": [
      "[1, 3, 5, 7, 9]\n"
     ]
    }
   ],
   "source": [
    "#4. filtrar numeros impares en una lista\n",
    "numeros = [1, 2, 3, 4, 5, 6, 7, 8, 9]\n",
    "impares = [x for x in numeros if x % 2 != 0]\n",
    "print(impares)"
   ]
  }
 ],
 "metadata": {
  "kernelspec": {
   "display_name": "Python 3",
   "language": "python",
   "name": "python3"
  },
  "language_info": {
   "codemirror_mode": {
    "name": "ipython",
    "version": 3
   },
   "file_extension": ".py",
   "mimetype": "text/x-python",
   "name": "python",
   "nbconvert_exporter": "python",
   "pygments_lexer": "ipython3",
   "version": "3.12.1"
  }
 },
 "nbformat": 4,
 "nbformat_minor": 2
}
